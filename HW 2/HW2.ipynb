{
 "cells": [
  {
   "cell_type": "code",
   "execution_count": 87,
   "id": "2bb00887",
   "metadata": {},
   "outputs": [],
   "source": [
    "import numpy\n",
    "import urllib\n",
    "import scipy.optimize\n",
    "import random\n",
    "import sklearn\n",
    "from sklearn import linear_model\n",
    "import gzip\n",
    "from collections import defaultdict"
   ]
  },
  {
   "cell_type": "code",
   "execution_count": 88,
   "id": "b7d1d2ea",
   "metadata": {},
   "outputs": [],
   "source": [
    "import warnings\n",
    "warnings.filterwarnings(\"ignore\")"
   ]
  },
  {
   "cell_type": "code",
   "execution_count": 89,
   "id": "532891e6",
   "metadata": {},
   "outputs": [],
   "source": [
    "def assertFloat(x):\n",
    "    assert type(float(x)) == float\n",
    "\n",
    "def assertFloatList(items, N):\n",
    "    assert len(items) == N\n",
    "    assert [type(float(x)) for x in items] == [float]*N"
   ]
  },
  {
   "cell_type": "code",
   "execution_count": 90,
   "id": "55dc0ebb",
   "metadata": {},
   "outputs": [],
   "source": [
    "f = open(\"5year.arff\", 'r')"
   ]
  },
  {
   "cell_type": "code",
   "execution_count": 91,
   "id": "2d080546",
   "metadata": {},
   "outputs": [],
   "source": [
    "# Read and parse the data\n",
    "while not '@data' in f.readline():\n",
    "    pass\n",
    "\n",
    "dataset = []\n",
    "for l in f:\n",
    "    if '?' in l: # Missing entry\n",
    "        continue\n",
    "    l = l.split(',')\n",
    "    values = [1] + [float(x) for x in l]\n",
    "    values[-1] = values[-1] > 0 # Convert to bool\n",
    "    dataset.append(values)"
   ]
  },
  {
   "cell_type": "code",
   "execution_count": 92,
   "id": "4321ad63",
   "metadata": {},
   "outputs": [],
   "source": [
    "answers = {}"
   ]
  },
  {
   "cell_type": "code",
   "execution_count": 93,
   "id": "d55f406b",
   "metadata": {},
   "outputs": [],
   "source": [
    "def accuracy(predictions, y):\n",
    "    TP = sum([(p and l) for (p,l) in zip(predictions, y)])\n",
    "    TN = sum([(not p and not l) for (p,l) in zip(predictions, y)])\n",
    "    return (TP+TN)/len(predictions)"
   ]
  },
  {
   "cell_type": "code",
   "execution_count": 94,
   "id": "a8579fc5",
   "metadata": {},
   "outputs": [],
   "source": [
    "def BER(predictions, y):\n",
    "    TP = sum([(p and l) for (p,l) in zip(predictions, y)])\n",
    "    FP = sum([(p and not l) for (p,l) in zip(predictions, y)])\n",
    "    TN = sum([(not p and not l) for (p,l) in zip(predictions, y)])\n",
    "    FN = sum([(not p and l) for (p,l) in zip(predictions, y)])\n",
    "    TPR = TP / (TP + FN)\n",
    "    TNR = TN / (TN + FP)\n",
    "    BER = 1 - 1/2 * (TPR + TNR)\n",
    "    return BER"
   ]
  },
  {
   "cell_type": "code",
   "execution_count": 95,
   "id": "f680b779",
   "metadata": {},
   "outputs": [],
   "source": [
    "## Q1"
   ]
  },
  {
   "cell_type": "code",
   "execution_count": 96,
   "id": "e61905a4",
   "metadata": {},
   "outputs": [],
   "source": [
    "X = [d[:-1] for d in dataset]\n",
    "y = [d[-1] for d in dataset]"
   ]
  },
  {
   "cell_type": "code",
   "execution_count": 97,
   "id": "5e759af2",
   "metadata": {},
   "outputs": [],
   "source": [
    "mod = sklearn.linear_model.LogisticRegression(C=1.0)\n",
    "mod.fit(X,y)\n",
    "predictions = mod.predict(X)"
   ]
  },
  {
   "cell_type": "code",
   "execution_count": 98,
   "id": "625605c3",
   "metadata": {},
   "outputs": [],
   "source": [
    "answers['Q1'] = [accuracy(predictions, y), BER(predictions,y)] # Accuracy and balanced error rate"
   ]
  },
  {
   "cell_type": "code",
   "execution_count": 99,
   "id": "3a597d7d",
   "metadata": {},
   "outputs": [],
   "source": [
    "assertFloatList(answers['Q1'], 2)"
   ]
  },
  {
   "cell_type": "code",
   "execution_count": 100,
   "id": "34441dfa",
   "metadata": {},
   "outputs": [],
   "source": [
    "### Q2"
   ]
  },
  {
   "cell_type": "code",
   "execution_count": 101,
   "id": "3bb18052",
   "metadata": {},
   "outputs": [],
   "source": [
    "mod = sklearn.linear_model.LogisticRegression(C=1.0, class_weight='balanced')\n",
    "mod.fit(X,y)\n",
    "predictions = mod.predict(X)"
   ]
  },
  {
   "cell_type": "code",
   "execution_count": 102,
   "id": "7c49032e",
   "metadata": {},
   "outputs": [],
   "source": [
    "answers['Q2'] = [accuracy(predictions, y), BER(predictions,y)]\n",
    "assertFloatList(answers['Q2'], 2)"
   ]
  },
  {
   "cell_type": "code",
   "execution_count": 103,
   "id": "9bb90d1f",
   "metadata": {},
   "outputs": [],
   "source": [
    "### Q3"
   ]
  },
  {
   "cell_type": "code",
   "execution_count": 104,
   "id": "9961e99d",
   "metadata": {},
   "outputs": [],
   "source": [
    "random.seed(3)\n",
    "random.shuffle(dataset)"
   ]
  },
  {
   "cell_type": "code",
   "execution_count": 105,
   "id": "5bf3ff6a",
   "metadata": {},
   "outputs": [],
   "source": [
    "X = [d[:-1] for d in dataset]\n",
    "y = [d[-1] for d in dataset]"
   ]
  },
  {
   "cell_type": "code",
   "execution_count": 106,
   "id": "fc235049",
   "metadata": {},
   "outputs": [],
   "source": [
    "Xtrain, Xvalid, Xtest = X[:len(X)//2], X[len(X)//2:(3*len(X))//4], X[(3*len(X))//4:]\n",
    "ytrain, yvalid, ytest = y[:len(X)//2], y[len(X)//2:(3*len(X))//4], y[(3*len(X))//4:]"
   ]
  },
  {
   "cell_type": "code",
   "execution_count": 107,
   "id": "741d49e1",
   "metadata": {},
   "outputs": [
    {
     "data": {
      "text/plain": [
       "(1515, 758, 758)"
      ]
     },
     "execution_count": 107,
     "metadata": {},
     "output_type": "execute_result"
    }
   ],
   "source": [
    "len(Xtrain), len(Xvalid), len(Xtest)"
   ]
  },
  {
   "cell_type": "code",
   "execution_count": 108,
   "id": "7b977ebc",
   "metadata": {},
   "outputs": [],
   "source": [
    "mod = sklearn.linear_model.LogisticRegression(C=1.0, class_weight='balanced')\n",
    "mod.fit(Xtrain,ytrain)\n",
    "pred_train = mod.predict(Xtrain)\n",
    "pred_valid = mod.predict(Xvalid)\n",
    "pred_test = mod.predict(Xtest)"
   ]
  },
  {
   "cell_type": "code",
   "execution_count": 109,
   "id": "5a08d63d",
   "metadata": {},
   "outputs": [],
   "source": [
    "answers['Q3'] = [BER(pred_train, ytrain), BER(pred_valid, yvalid), BER(pred_test, ytest)]\n",
    "assertFloatList(answers['Q3'], 3)"
   ]
  },
  {
   "cell_type": "code",
   "execution_count": 110,
   "id": "8678b9fc",
   "metadata": {},
   "outputs": [],
   "source": [
    "### Q4"
   ]
  },
  {
   "cell_type": "code",
   "execution_count": 111,
   "id": "b40e14a8",
   "metadata": {},
   "outputs": [],
   "source": [
    "berList = []"
   ]
  },
  {
   "cell_type": "code",
   "execution_count": 112,
   "id": "6c58a0aa",
   "metadata": {},
   "outputs": [],
   "source": [
    "for n in [10**-4, 10**-3, 10**-2, 10**-1,10**-0, 10**-1,10**2, 10**3, 10**4]:\n",
    "    mod = sklearn.linear_model.LogisticRegression(C=n, class_weight='balanced')\n",
    "    mod.fit(Xtrain,ytrain)\n",
    "    pred_valid = mod.predict(Xvalid)\n",
    "    berList.append(BER(pred_valid, yvalid))"
   ]
  },
  {
   "cell_type": "code",
   "execution_count": 113,
   "id": "2312a88a",
   "metadata": {},
   "outputs": [],
   "source": [
    "answers['Q4'] = berList\n",
    "assertFloatList(answers['Q4'], 9)"
   ]
  },
  {
   "cell_type": "code",
   "execution_count": 114,
   "id": "3ec9d90c",
   "metadata": {},
   "outputs": [],
   "source": [
    "### Q5"
   ]
  },
  {
   "cell_type": "code",
   "execution_count": 115,
   "id": "fa54cf22",
   "metadata": {},
   "outputs": [
    {
     "name": "stdout",
     "output_type": "stream",
     "text": [
      "[0.3288104929895974, 0.31931252826775225, 0.3308457711442786, 0.3179556761646314, 0.3159203980099503, 0.3179556761646314, 0.2955030044582283, 0.29618143050978873, 0.29618143050978873]\n"
     ]
    }
   ],
   "source": [
    "print(berList)"
   ]
  },
  {
   "cell_type": "code",
   "execution_count": 116,
   "id": "ee3c8edb",
   "metadata": {},
   "outputs": [],
   "source": [
    "bestC = 10**2\n",
    "mod = sklearn.linear_model.LogisticRegression(C=bestC, class_weight='balanced')\n",
    "mod.fit(Xtrain,ytrain)\n",
    "pred_test = mod.predict(Xtest)"
   ]
  },
  {
   "cell_type": "code",
   "execution_count": 117,
   "id": "7d62387b",
   "metadata": {},
   "outputs": [],
   "source": [
    "answers['Q5'] = [bestC, BER(pred_test, ytest)]\n",
    "assertFloatList(answers['Q5'], 2)"
   ]
  },
  {
   "cell_type": "code",
   "execution_count": 82,
   "id": "7407ba6d",
   "metadata": {},
   "outputs": [],
   "source": [
    "### Q6"
   ]
  },
  {
   "cell_type": "code",
   "execution_count": 83,
   "id": "73a8c083",
   "metadata": {},
   "outputs": [],
   "source": [
    "f = open(\"young_adult_10000.json\")\n",
    "dataset = []\n",
    "for l in f:\n",
    "    dataset.append(eval(l))"
   ]
  },
  {
   "cell_type": "code",
   "execution_count": 84,
   "id": "8c6ae5ec",
   "metadata": {},
   "outputs": [],
   "source": [
    "dataTrain = dataset[:9000]\n",
    "dataTest = dataset[9000:]"
   ]
  },
  {
   "cell_type": "code",
   "execution_count": 130,
   "id": "6860bf8f",
   "metadata": {},
   "outputs": [
    {
     "data": {
      "text/plain": [
       "{'user_id': '8842281e1d1347389f2ab93d60773d4d',\n",
       " 'book_id': '2767052',\n",
       " 'review_id': '248c011811e945eca861b5c31a549291',\n",
       " 'rating': 5,\n",
       " 'review_text': \"I cracked and finally picked this up. Very enjoyable quick read - couldn't put it down - it was like crack. \\n I'm a bit bothered by the lack of backstory of how Panem and the Hunger Games come about. It is just kind of explained away in a few paragraphs and we are left to accept this very strange world where teenagers are pitted into an arena each year to kill each other? I was expecting it because I've seen Battle Royale, but I would have appreciated knowing more of the backstory of how the world could have come into such a odd state. \\n I suppose what makes a book like this interesting is thinking about the strategy of it all. The players are going to be statistically encouraged to band together because they will last longer that way, but by definition of course any partnership will be broken, and the drama of how that unfolds is always interesting and full of friendships broken and betrayal. Each character approached the game in their own way. Some banded together in larger coalitions, some were loners initially and banded together later. And some were just loners, like Foxface. A lot depended on your survival skill: could you find food and water on your own? Self-dependence is highly valued - and of course our hero was strong there. \\n All in all, a fun read, but I feel kind of dirty for having read it.\",\n",
       " 'date_added': 'Wed Jan 13 13:38:25 -0800 2010',\n",
       " 'date_updated': 'Wed Mar 22 11:46:36 -0700 2017',\n",
       " 'read_at': 'Sun Mar 25 00:00:00 -0700 2012',\n",
       " 'started_at': 'Fri Mar 23 00:00:00 -0700 2012',\n",
       " 'n_votes': 24,\n",
       " 'n_comments': 25}"
      ]
     },
     "execution_count": 130,
     "metadata": {},
     "output_type": "execute_result"
    }
   ],
   "source": [
    "dataTrain[0]"
   ]
  },
  {
   "cell_type": "code",
   "execution_count": 120,
   "id": "5b3e8eae",
   "metadata": {},
   "outputs": [],
   "source": [
    "usersPerItem = defaultdict(set) # Maps an item to the users who rated it\n",
    "itemsPerUser = defaultdict(set) # Maps a user to the items that they rated\n",
    "reviewsPerUser = defaultdict(list)\n",
    "reviewsPerItem = defaultdict(list)\n",
    "ratingDict = {} # To retrieve a rating for a specific user/item pair"
   ]
  },
  {
   "cell_type": "code",
   "execution_count": 144,
   "id": "a457711e",
   "metadata": {},
   "outputs": [],
   "source": [
    "for d in dataTrain:\n",
    "    user,item = d['user_id'], d['book_id']\n",
    "    usersPerItem[item].add(user)\n",
    "    itemsPerUser[user].add(item)\n",
    "    reviewsPerItem[item].append(d)\n",
    "    reviewsPerUser[user].append(d)\n",
    "    ratingDict[(user, item)] = d['rating'] #are we guaranteed no duplicates?\n"
   ]
  },
  {
   "cell_type": "code",
   "execution_count": 122,
   "id": "45d08718",
   "metadata": {},
   "outputs": [],
   "source": [
    "def Jaccard(s1, s2):\n",
    "    numer = len(s1.intersection(s2))\n",
    "    denom = len(s1.union(s2))\n",
    "    return numer / denom"
   ]
  },
  {
   "cell_type": "code",
   "execution_count": 123,
   "id": "4fab5e47",
   "metadata": {},
   "outputs": [],
   "source": [
    "def mostSimilar(i):\n",
    "    similarities = []\n",
    "    users = usersPerItem[i]\n",
    "    for i2 in usersPerItem: # For all items\n",
    "        if i == i2: continue # other than the query\n",
    "        sim = Jaccard(users, usersPerItem[i2])\n",
    "        similarities.append((sim,i2))\n",
    "    similarities.sort(reverse=True)\n",
    "    return similarities[:10]"
   ]
  },
  {
   "cell_type": "code",
   "execution_count": 126,
   "id": "2ca6af52",
   "metadata": {},
   "outputs": [],
   "source": [
    "answers['Q6'] = mostSimilar('2767052')"
   ]
  },
  {
   "cell_type": "code",
   "execution_count": 127,
   "id": "abb14340",
   "metadata": {},
   "outputs": [],
   "source": [
    "assert len(answers['Q6']) == 10\n",
    "assertFloatList([x[0] for x in answers['Q6']], 10)"
   ]
  },
  {
   "cell_type": "code",
   "execution_count": 128,
   "id": "ef6885c8",
   "metadata": {},
   "outputs": [],
   "source": [
    "### Q7"
   ]
  },
  {
   "cell_type": "code",
   "execution_count": 146,
   "id": "fb80989b",
   "metadata": {},
   "outputs": [],
   "source": [
    "ratingMean = sum([d['rating'] for d in dataTrain]) / len(dataTrain)"
   ]
  },
  {
   "cell_type": "code",
   "execution_count": 156,
   "id": "948a0ce5",
   "metadata": {},
   "outputs": [],
   "source": [
    "def predictRating(user, item):\n",
    "    try:\n",
    "        itemRatingMean = sum([d['rating'] for d in reviewsPerItem[item]]) / len(reviewsPerItem[item])\n",
    "    except:\n",
    "        itemRatingMean = ratingMean\n",
    "        \n",
    "    ratings_similarity_sum = 0\n",
    "    similarity_sum = 0\n",
    "    for d in reviewsPerUser[user]:\n",
    "        j = d['book_id']\n",
    "        if j == item: \n",
    "            continue\n",
    "        rating = d['rating'] #user rating for other items\n",
    "        try:\n",
    "            avg_rating = sum([d['rating'] for d in reviewsPerItem[j]]) / len(reviewsPerItem[j])\n",
    "        except:\n",
    "            avg_rating = ratingMean\n",
    "        similarity = Jaccard(usersPerItem[item],usersPerItem[j])\n",
    "        ratings_similarity_sum += (rating-avg_rating)*similarity\n",
    "        similarity_sum += similarity\n",
    "    if similarity_sum == 0:\n",
    "        return itemRatingMean\n",
    "    else:\n",
    "        return itemRatingMean + (ratings_similarity_sum/similarity_sum)"
   ]
  },
  {
   "cell_type": "code",
   "execution_count": 132,
   "id": "0eeab0a3",
   "metadata": {},
   "outputs": [
    {
     "data": {
      "text/plain": [
       "{'user_id': '8842281e1d1347389f2ab93d60773d4d',\n",
       " 'book_id': '2767052',\n",
       " 'review_id': '248c011811e945eca861b5c31a549291',\n",
       " 'rating': 5,\n",
       " 'review_text': \"I cracked and finally picked this up. Very enjoyable quick read - couldn't put it down - it was like crack. \\n I'm a bit bothered by the lack of backstory of how Panem and the Hunger Games come about. It is just kind of explained away in a few paragraphs and we are left to accept this very strange world where teenagers are pitted into an arena each year to kill each other? I was expecting it because I've seen Battle Royale, but I would have appreciated knowing more of the backstory of how the world could have come into such a odd state. \\n I suppose what makes a book like this interesting is thinking about the strategy of it all. The players are going to be statistically encouraged to band together because they will last longer that way, but by definition of course any partnership will be broken, and the drama of how that unfolds is always interesting and full of friendships broken and betrayal. Each character approached the game in their own way. Some banded together in larger coalitions, some were loners initially and banded together later. And some were just loners, like Foxface. A lot depended on your survival skill: could you find food and water on your own? Self-dependence is highly valued - and of course our hero was strong there. \\n All in all, a fun read, but I feel kind of dirty for having read it.\",\n",
       " 'date_added': 'Wed Jan 13 13:38:25 -0800 2010',\n",
       " 'date_updated': 'Wed Mar 22 11:46:36 -0700 2017',\n",
       " 'read_at': 'Sun Mar 25 00:00:00 -0700 2012',\n",
       " 'started_at': 'Fri Mar 23 00:00:00 -0700 2012',\n",
       " 'n_votes': 24,\n",
       " 'n_comments': 25}"
      ]
     },
     "execution_count": 132,
     "metadata": {},
     "output_type": "execute_result"
    }
   ],
   "source": [
    "dataTrain[0]"
   ]
  },
  {
   "cell_type": "code",
   "execution_count": 133,
   "id": "79d43cbb",
   "metadata": {},
   "outputs": [],
   "source": [
    "u, i = dataTrain[0]['user_id'], dataTrain[0]['book_id']"
   ]
  },
  {
   "cell_type": "code",
   "execution_count": 139,
   "id": "79606dca",
   "metadata": {},
   "outputs": [
    {
     "data": {
      "text/plain": [
       "4.4"
      ]
     },
     "execution_count": 139,
     "metadata": {},
     "output_type": "execute_result"
    }
   ],
   "source": [
    "predictRating(u, i)"
   ]
  },
  {
   "cell_type": "code",
   "execution_count": 140,
   "id": "0bfb86f5",
   "metadata": {},
   "outputs": [],
   "source": [
    "def MSE(predictions, labels):\n",
    "    differences = [(x-y)**2 for x,y in zip(predictions,labels)]\n",
    "    return sum(differences) / len(differences)"
   ]
  },
  {
   "cell_type": "code",
   "execution_count": 148,
   "id": "a9df5433",
   "metadata": {},
   "outputs": [],
   "source": [
    "Predictions = [predictRating(d['user_id'], d['book_id']) for d in dataTest]"
   ]
  },
  {
   "cell_type": "code",
   "execution_count": 149,
   "id": "69cb3b62",
   "metadata": {},
   "outputs": [],
   "source": [
    "Labels = [d['rating'] for d in dataTest]"
   ]
  },
  {
   "cell_type": "code",
   "execution_count": 151,
   "id": "25a07764",
   "metadata": {},
   "outputs": [],
   "source": [
    "answers['Q7'] = MSE(Predictions, Labels)"
   ]
  },
  {
   "cell_type": "code",
   "execution_count": 153,
   "id": "7617853a",
   "metadata": {},
   "outputs": [],
   "source": [
    "### Q8"
   ]
  },
  {
   "cell_type": "code",
   "execution_count": 154,
   "id": "a8871659",
   "metadata": {},
   "outputs": [],
   "source": [
    "ratingMean = sum([d['rating'] for d in dataTrain]) / len(dataTrain)"
   ]
  },
  {
   "cell_type": "code",
   "execution_count": 157,
   "id": "f25cad82",
   "metadata": {},
   "outputs": [],
   "source": [
    "def predictRating2(user, item):\n",
    "    try:\n",
    "        userRatingMean = sum([d['rating'] for d in reviewsPerUser[user]]) / len(reviewsPerUser[user])\n",
    "    except:\n",
    "        userRatingMean = ratingMean\n",
    "        \n",
    "    ratings_similarity_sum = 0\n",
    "    similarity_sum = 0\n",
    "    for d in reviewsPerItem[item]:\n",
    "        j = d['user_id']\n",
    "        if j == user: \n",
    "            continue\n",
    "        rating = d['rating'] #the item's rating for other users\n",
    "        try:\n",
    "            avg_rating = sum([d['rating'] for d in reviewsPerUser[j]]) / len(reviewsPerUser[j])\n",
    "        except:\n",
    "            avg_rating = ratingMean\n",
    "        similarity = Jaccard(itemsPerUser[user],itemsPerUser[j])\n",
    "        ratings_similarity_sum += (rating-avg_rating)*similarity\n",
    "        similarity_sum += similarity\n",
    "    if similarity_sum == 0:\n",
    "        return userRatingMean\n",
    "    else:\n",
    "        return userRatingMean + (ratings_similarity_sum/similarity_sum)"
   ]
  },
  {
   "cell_type": "code",
   "execution_count": 158,
   "id": "c97c9bc0",
   "metadata": {},
   "outputs": [],
   "source": [
    "Predictions2 = [predictRating2(d['user_id'], d['book_id']) for d in dataTest]\n",
    "answers['Q8'] = MSE(Predictions2, Labels)"
   ]
  },
  {
   "cell_type": "code",
   "execution_count": 159,
   "id": "fac755c5",
   "metadata": {},
   "outputs": [],
   "source": [
    "f = open(\"answers_hw2.txt\", 'w')\n",
    "f.write(str(answers) + '\\n')\n",
    "f.close()"
   ]
  },
  {
   "cell_type": "code",
   "execution_count": null,
   "id": "f8ddad53",
   "metadata": {},
   "outputs": [],
   "source": []
  }
 ],
 "metadata": {
  "kernelspec": {
   "display_name": "Python 3 (ipykernel)",
   "language": "python",
   "name": "python3"
  },
  "language_info": {
   "codemirror_mode": {
    "name": "ipython",
    "version": 3
   },
   "file_extension": ".py",
   "mimetype": "text/x-python",
   "name": "python",
   "nbconvert_exporter": "python",
   "pygments_lexer": "ipython3",
   "version": "3.8.9"
  }
 },
 "nbformat": 4,
 "nbformat_minor": 5
}
